{
 "cells": [
  {
   "cell_type": "code",
   "execution_count": 36,
   "metadata": {},
   "outputs": [],
   "source": [
    "from pyomo.environ import *\n",
    "from pyomo.opt import SolverFactory\n"
   ]
  },
  {
   "cell_type": "code",
   "execution_count": 45,
   "metadata": {},
   "outputs": [
    {
     "name": "stdout",
     "output_type": "stream",
     "text": [
      "['W0', 'W1', 'W2', 'W3', 'W4', 'W5', 'W6', 'W7', 'W8', 'W9', 'W10', 'W11']\n"
     ]
    }
   ],
   "source": [
    "workers = ['W' + str(i) for i in range(0, 12)]\n",
    "print(workers)"
   ]
  },
  {
   "cell_type": "code",
   "execution_count": 42,
   "metadata": {},
   "outputs": [],
   "source": [
    "model = ConcreteModel()\n",
    "\n",
    "technologies = ['offshore', 'onshore', 'pv', 'river', 'lake', 'biogas', 'gas', 'phs', 'battery', 'methanation']\n",
    "vre = ['offshore', 'onshore', 'pv', 'lol']\n",
    "time = range(0, 8760)\n",
    "\n",
    "# binary variables representing if a worker is scheduled somewhere\n",
    "model.new_capacities = Var(technologies, within=NonNegativeReals, initialize=0)\n"
   ]
  },
  {
   "cell_type": "code",
   "execution_count": null,
   "metadata": {},
   "outputs": [],
   "source": []
  },
  {
   "cell_type": "code",
   "execution_count": 53,
   "metadata": {},
   "outputs": [],
   "source": [
    "first_hour = 0\n",
    "last_hour = 12\n",
    "time = range(first_hour, last_hour + 1)\n",
    "workers = ['offshore', 'onshore', 'pv', 'lol']\n",
    "\n",
    "model = ConcreteModel()\n",
    "\n",
    "model.works = Var(((worker, hour) for hour in time for worker in workers), within=Binary, initialize=0)\n",
    "\n",
    "def obj_rule(m):\n",
    "    c = len(workers)\n",
    "    return sum(sum(m.works[worker, hour] for hour in time) for worker in workers)\n",
    "# we multiply the second term by a constant to make sure that it is the primary objective\n",
    "# since sum(m.no_prefer) is at most len(workers), len(workers) + 1 is a valid constant.\n",
    "\n",
    "\n",
    "# add objective function to the model. rule (pass function) or expr (pass expression directly)\n",
    "model.obj = Objective(rule=obj_rule, sense=minimize)"
   ]
  },
  {
   "cell_type": "code",
   "execution_count": null,
   "metadata": {},
   "outputs": [],
   "source": []
  },
  {
   "cell_type": "code",
   "execution_count": null,
   "metadata": {},
   "outputs": [],
   "source": []
  }
 ],
 "metadata": {
  "kernelspec": {
   "display_name": "Python 3",
   "language": "python",
   "name": "python3"
  },
  "language_info": {
   "codemirror_mode": {
    "name": "ipython",
    "version": 3
   },
   "file_extension": ".py",
   "mimetype": "text/x-python",
   "name": "python",
   "nbconvert_exporter": "python",
   "pygments_lexer": "ipython3",
   "version": "3.8.6rc1"
  }
 },
 "nbformat": 4,
 "nbformat_minor": 4
}
